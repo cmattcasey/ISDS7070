{
 "cells": [
  {
   "cell_type": "code",
   "execution_count": 1,
   "id": "fantastic-acrobat",
   "metadata": {},
   "outputs": [],
   "source": [
    "# Import modules\n",
    "import pandas as pd\n",
    "import numpy as np\n",
    "import matplotlib as plt\n",
    "from matplotlib import pyplot\n",
    "import seaborn as sns\n",
    "\n",
    "from sklearn.model_selection import train_test_split\n",
    "from sklearn import tree\n",
    "from sklearn.metrics import accuracy_score, mean_squared_error, r2_score\n",
    "\n",
    "# Figures inline and set visualization style\n",
    "%matplotlib inline\n",
    "sns.set()"
   ]
  },
  {
   "cell_type": "code",
   "execution_count": 2,
   "id": "right-receiver",
   "metadata": {},
   "outputs": [],
   "source": [
    "# Reading the csv into a dataframe.\n",
    "df_bank = pd.read_csv('https://raw.githubusercontent.com/cmattcasey/ISDS7070/main/bank-additional-full.csv')"
   ]
  },
  {
   "cell_type": "code",
   "execution_count": 3,
   "id": "maritime-lithuania",
   "metadata": {},
   "outputs": [
    {
     "data": {
      "text/html": [
       "<div>\n",
       "<style scoped>\n",
       "    .dataframe tbody tr th:only-of-type {\n",
       "        vertical-align: middle;\n",
       "    }\n",
       "\n",
       "    .dataframe tbody tr th {\n",
       "        vertical-align: top;\n",
       "    }\n",
       "\n",
       "    .dataframe thead th {\n",
       "        text-align: right;\n",
       "    }\n",
       "</style>\n",
       "<table border=\"1\" class=\"dataframe\">\n",
       "  <thead>\n",
       "    <tr style=\"text-align: right;\">\n",
       "      <th></th>\n",
       "      <th>age</th>\n",
       "      <th>job</th>\n",
       "      <th>marital</th>\n",
       "      <th>education</th>\n",
       "      <th>default</th>\n",
       "      <th>housing</th>\n",
       "      <th>loan</th>\n",
       "      <th>contact</th>\n",
       "      <th>month</th>\n",
       "      <th>day_of_week</th>\n",
       "      <th>...</th>\n",
       "      <th>campaign</th>\n",
       "      <th>pdays</th>\n",
       "      <th>previous</th>\n",
       "      <th>poutcome</th>\n",
       "      <th>emp.var.rate</th>\n",
       "      <th>cons.price.idx</th>\n",
       "      <th>cons.conf.idx</th>\n",
       "      <th>euribor3m</th>\n",
       "      <th>nr.employed</th>\n",
       "      <th>y</th>\n",
       "    </tr>\n",
       "  </thead>\n",
       "  <tbody>\n",
       "    <tr>\n",
       "      <th>0</th>\n",
       "      <td>56</td>\n",
       "      <td>housemaid</td>\n",
       "      <td>married</td>\n",
       "      <td>basic.4y</td>\n",
       "      <td>no</td>\n",
       "      <td>no</td>\n",
       "      <td>no</td>\n",
       "      <td>telephone</td>\n",
       "      <td>may</td>\n",
       "      <td>mon</td>\n",
       "      <td>...</td>\n",
       "      <td>1</td>\n",
       "      <td>999</td>\n",
       "      <td>0</td>\n",
       "      <td>nonexistent</td>\n",
       "      <td>1.1</td>\n",
       "      <td>93.994</td>\n",
       "      <td>-36.4</td>\n",
       "      <td>4.857</td>\n",
       "      <td>5191.0</td>\n",
       "      <td>no</td>\n",
       "    </tr>\n",
       "    <tr>\n",
       "      <th>1</th>\n",
       "      <td>57</td>\n",
       "      <td>services</td>\n",
       "      <td>married</td>\n",
       "      <td>high.school</td>\n",
       "      <td>unknown</td>\n",
       "      <td>no</td>\n",
       "      <td>no</td>\n",
       "      <td>telephone</td>\n",
       "      <td>may</td>\n",
       "      <td>mon</td>\n",
       "      <td>...</td>\n",
       "      <td>1</td>\n",
       "      <td>999</td>\n",
       "      <td>0</td>\n",
       "      <td>nonexistent</td>\n",
       "      <td>1.1</td>\n",
       "      <td>93.994</td>\n",
       "      <td>-36.4</td>\n",
       "      <td>4.857</td>\n",
       "      <td>5191.0</td>\n",
       "      <td>no</td>\n",
       "    </tr>\n",
       "    <tr>\n",
       "      <th>2</th>\n",
       "      <td>37</td>\n",
       "      <td>services</td>\n",
       "      <td>married</td>\n",
       "      <td>high.school</td>\n",
       "      <td>no</td>\n",
       "      <td>yes</td>\n",
       "      <td>no</td>\n",
       "      <td>telephone</td>\n",
       "      <td>may</td>\n",
       "      <td>mon</td>\n",
       "      <td>...</td>\n",
       "      <td>1</td>\n",
       "      <td>999</td>\n",
       "      <td>0</td>\n",
       "      <td>nonexistent</td>\n",
       "      <td>1.1</td>\n",
       "      <td>93.994</td>\n",
       "      <td>-36.4</td>\n",
       "      <td>4.857</td>\n",
       "      <td>5191.0</td>\n",
       "      <td>no</td>\n",
       "    </tr>\n",
       "    <tr>\n",
       "      <th>3</th>\n",
       "      <td>40</td>\n",
       "      <td>admin.</td>\n",
       "      <td>married</td>\n",
       "      <td>basic.6y</td>\n",
       "      <td>no</td>\n",
       "      <td>no</td>\n",
       "      <td>no</td>\n",
       "      <td>telephone</td>\n",
       "      <td>may</td>\n",
       "      <td>mon</td>\n",
       "      <td>...</td>\n",
       "      <td>1</td>\n",
       "      <td>999</td>\n",
       "      <td>0</td>\n",
       "      <td>nonexistent</td>\n",
       "      <td>1.1</td>\n",
       "      <td>93.994</td>\n",
       "      <td>-36.4</td>\n",
       "      <td>4.857</td>\n",
       "      <td>5191.0</td>\n",
       "      <td>no</td>\n",
       "    </tr>\n",
       "    <tr>\n",
       "      <th>4</th>\n",
       "      <td>56</td>\n",
       "      <td>services</td>\n",
       "      <td>married</td>\n",
       "      <td>high.school</td>\n",
       "      <td>no</td>\n",
       "      <td>no</td>\n",
       "      <td>yes</td>\n",
       "      <td>telephone</td>\n",
       "      <td>may</td>\n",
       "      <td>mon</td>\n",
       "      <td>...</td>\n",
       "      <td>1</td>\n",
       "      <td>999</td>\n",
       "      <td>0</td>\n",
       "      <td>nonexistent</td>\n",
       "      <td>1.1</td>\n",
       "      <td>93.994</td>\n",
       "      <td>-36.4</td>\n",
       "      <td>4.857</td>\n",
       "      <td>5191.0</td>\n",
       "      <td>no</td>\n",
       "    </tr>\n",
       "    <tr>\n",
       "      <th>5</th>\n",
       "      <td>45</td>\n",
       "      <td>services</td>\n",
       "      <td>married</td>\n",
       "      <td>basic.9y</td>\n",
       "      <td>unknown</td>\n",
       "      <td>no</td>\n",
       "      <td>no</td>\n",
       "      <td>telephone</td>\n",
       "      <td>may</td>\n",
       "      <td>mon</td>\n",
       "      <td>...</td>\n",
       "      <td>1</td>\n",
       "      <td>999</td>\n",
       "      <td>0</td>\n",
       "      <td>nonexistent</td>\n",
       "      <td>1.1</td>\n",
       "      <td>93.994</td>\n",
       "      <td>-36.4</td>\n",
       "      <td>4.857</td>\n",
       "      <td>5191.0</td>\n",
       "      <td>no</td>\n",
       "    </tr>\n",
       "    <tr>\n",
       "      <th>6</th>\n",
       "      <td>59</td>\n",
       "      <td>admin.</td>\n",
       "      <td>married</td>\n",
       "      <td>professional.course</td>\n",
       "      <td>no</td>\n",
       "      <td>no</td>\n",
       "      <td>no</td>\n",
       "      <td>telephone</td>\n",
       "      <td>may</td>\n",
       "      <td>mon</td>\n",
       "      <td>...</td>\n",
       "      <td>1</td>\n",
       "      <td>999</td>\n",
       "      <td>0</td>\n",
       "      <td>nonexistent</td>\n",
       "      <td>1.1</td>\n",
       "      <td>93.994</td>\n",
       "      <td>-36.4</td>\n",
       "      <td>4.857</td>\n",
       "      <td>5191.0</td>\n",
       "      <td>no</td>\n",
       "    </tr>\n",
       "    <tr>\n",
       "      <th>7</th>\n",
       "      <td>41</td>\n",
       "      <td>blue-collar</td>\n",
       "      <td>married</td>\n",
       "      <td>unknown</td>\n",
       "      <td>unknown</td>\n",
       "      <td>no</td>\n",
       "      <td>no</td>\n",
       "      <td>telephone</td>\n",
       "      <td>may</td>\n",
       "      <td>mon</td>\n",
       "      <td>...</td>\n",
       "      <td>1</td>\n",
       "      <td>999</td>\n",
       "      <td>0</td>\n",
       "      <td>nonexistent</td>\n",
       "      <td>1.1</td>\n",
       "      <td>93.994</td>\n",
       "      <td>-36.4</td>\n",
       "      <td>4.857</td>\n",
       "      <td>5191.0</td>\n",
       "      <td>no</td>\n",
       "    </tr>\n",
       "    <tr>\n",
       "      <th>8</th>\n",
       "      <td>24</td>\n",
       "      <td>technician</td>\n",
       "      <td>single</td>\n",
       "      <td>professional.course</td>\n",
       "      <td>no</td>\n",
       "      <td>yes</td>\n",
       "      <td>no</td>\n",
       "      <td>telephone</td>\n",
       "      <td>may</td>\n",
       "      <td>mon</td>\n",
       "      <td>...</td>\n",
       "      <td>1</td>\n",
       "      <td>999</td>\n",
       "      <td>0</td>\n",
       "      <td>nonexistent</td>\n",
       "      <td>1.1</td>\n",
       "      <td>93.994</td>\n",
       "      <td>-36.4</td>\n",
       "      <td>4.857</td>\n",
       "      <td>5191.0</td>\n",
       "      <td>no</td>\n",
       "    </tr>\n",
       "    <tr>\n",
       "      <th>9</th>\n",
       "      <td>25</td>\n",
       "      <td>services</td>\n",
       "      <td>single</td>\n",
       "      <td>high.school</td>\n",
       "      <td>no</td>\n",
       "      <td>yes</td>\n",
       "      <td>no</td>\n",
       "      <td>telephone</td>\n",
       "      <td>may</td>\n",
       "      <td>mon</td>\n",
       "      <td>...</td>\n",
       "      <td>1</td>\n",
       "      <td>999</td>\n",
       "      <td>0</td>\n",
       "      <td>nonexistent</td>\n",
       "      <td>1.1</td>\n",
       "      <td>93.994</td>\n",
       "      <td>-36.4</td>\n",
       "      <td>4.857</td>\n",
       "      <td>5191.0</td>\n",
       "      <td>no</td>\n",
       "    </tr>\n",
       "  </tbody>\n",
       "</table>\n",
       "<p>10 rows × 21 columns</p>\n",
       "</div>"
      ],
      "text/plain": [
       "   age          job  marital            education  default housing loan  \\\n",
       "0   56    housemaid  married             basic.4y       no      no   no   \n",
       "1   57     services  married          high.school  unknown      no   no   \n",
       "2   37     services  married          high.school       no     yes   no   \n",
       "3   40       admin.  married             basic.6y       no      no   no   \n",
       "4   56     services  married          high.school       no      no  yes   \n",
       "5   45     services  married             basic.9y  unknown      no   no   \n",
       "6   59       admin.  married  professional.course       no      no   no   \n",
       "7   41  blue-collar  married              unknown  unknown      no   no   \n",
       "8   24   technician   single  professional.course       no     yes   no   \n",
       "9   25     services   single          high.school       no     yes   no   \n",
       "\n",
       "     contact month day_of_week  ...  campaign  pdays  previous     poutcome  \\\n",
       "0  telephone   may         mon  ...         1    999         0  nonexistent   \n",
       "1  telephone   may         mon  ...         1    999         0  nonexistent   \n",
       "2  telephone   may         mon  ...         1    999         0  nonexistent   \n",
       "3  telephone   may         mon  ...         1    999         0  nonexistent   \n",
       "4  telephone   may         mon  ...         1    999         0  nonexistent   \n",
       "5  telephone   may         mon  ...         1    999         0  nonexistent   \n",
       "6  telephone   may         mon  ...         1    999         0  nonexistent   \n",
       "7  telephone   may         mon  ...         1    999         0  nonexistent   \n",
       "8  telephone   may         mon  ...         1    999         0  nonexistent   \n",
       "9  telephone   may         mon  ...         1    999         0  nonexistent   \n",
       "\n",
       "  emp.var.rate  cons.price.idx  cons.conf.idx  euribor3m  nr.employed   y  \n",
       "0          1.1          93.994          -36.4      4.857       5191.0  no  \n",
       "1          1.1          93.994          -36.4      4.857       5191.0  no  \n",
       "2          1.1          93.994          -36.4      4.857       5191.0  no  \n",
       "3          1.1          93.994          -36.4      4.857       5191.0  no  \n",
       "4          1.1          93.994          -36.4      4.857       5191.0  no  \n",
       "5          1.1          93.994          -36.4      4.857       5191.0  no  \n",
       "6          1.1          93.994          -36.4      4.857       5191.0  no  \n",
       "7          1.1          93.994          -36.4      4.857       5191.0  no  \n",
       "8          1.1          93.994          -36.4      4.857       5191.0  no  \n",
       "9          1.1          93.994          -36.4      4.857       5191.0  no  \n",
       "\n",
       "[10 rows x 21 columns]"
      ]
     },
     "execution_count": 3,
     "metadata": {},
     "output_type": "execute_result"
    }
   ],
   "source": [
    "# Verifying the data loaded correctly.\n",
    "df_bank.head(10)"
   ]
  },
  {
   "cell_type": "code",
   "execution_count": 4,
   "id": "spatial-heavy",
   "metadata": {},
   "outputs": [
    {
     "name": "stdout",
     "output_type": "stream",
     "text": [
      "<class 'pandas.core.frame.DataFrame'>\n",
      "RangeIndex: 41188 entries, 0 to 41187\n",
      "Data columns (total 21 columns):\n",
      " #   Column          Non-Null Count  Dtype  \n",
      "---  ------          --------------  -----  \n",
      " 0   age             41188 non-null  int64  \n",
      " 1   job             41188 non-null  object \n",
      " 2   marital         41188 non-null  object \n",
      " 3   education       41188 non-null  object \n",
      " 4   default         41188 non-null  object \n",
      " 5   housing         41188 non-null  object \n",
      " 6   loan            41188 non-null  object \n",
      " 7   contact         41188 non-null  object \n",
      " 8   month           41188 non-null  object \n",
      " 9   day_of_week     41188 non-null  object \n",
      " 10  duration        41188 non-null  int64  \n",
      " 11  campaign        41188 non-null  int64  \n",
      " 12  pdays           41188 non-null  int64  \n",
      " 13  previous        41188 non-null  int64  \n",
      " 14  poutcome        41188 non-null  object \n",
      " 15  emp.var.rate    41188 non-null  float64\n",
      " 16  cons.price.idx  41188 non-null  float64\n",
      " 17  cons.conf.idx   41188 non-null  float64\n",
      " 18  euribor3m       41188 non-null  float64\n",
      " 19  nr.employed     41188 non-null  float64\n",
      " 20  y               41188 non-null  object \n",
      "dtypes: float64(5), int64(5), object(11)\n",
      "memory usage: 6.6+ MB\n"
     ]
    }
   ],
   "source": [
    "# Check the datatypes and look for null values.\n",
    "df_bank.info()"
   ]
  },
  {
   "cell_type": "code",
   "execution_count": 5,
   "id": "swiss-mumbai",
   "metadata": {},
   "outputs": [],
   "source": [
    "# Renaming columns that contain a \".\" and replacing with \"_\"\n",
    "df_bank.rename(columns={'emp.var.rate':'emp_var_rate', 'cons.price.idx':'cons_price_idx', 'cons.conf.idx':'cons_conf_idx','nr.employed':'nr_employed',}, inplace=True)"
   ]
  },
  {
   "cell_type": "code",
   "execution_count": 6,
   "id": "racial-blast",
   "metadata": {},
   "outputs": [],
   "source": [
    "# Missing values are coded as unknown, replacing with NaN\n",
    "df_bank.replace('unknown', np.NaN, inplace=True)"
   ]
  },
  {
   "cell_type": "markdown",
   "id": "pressed-chorus",
   "metadata": {},
   "source": [
    "We dropped two columns due to lack of useful information. Default showed only 3 instances where someone defaulted on a loan and the metrics for pdays were greatly skewed because every new client was represented by the number '999.' pdays also felt redundant due to the information provided by the 'campaign' and 'previous' columns."
   ]
  },
  {
   "cell_type": "code",
   "execution_count": 7,
   "id": "insured-sally",
   "metadata": {},
   "outputs": [],
   "source": [
    "df_bank.drop(columns = ['default', 'pdays'], inplace=True)"
   ]
  },
  {
   "cell_type": "code",
   "execution_count": 8,
   "id": "nominated-madrid",
   "metadata": {},
   "outputs": [
    {
     "name": "stdout",
     "output_type": "stream",
     "text": [
      "<class 'pandas.core.frame.DataFrame'>\n",
      "RangeIndex: 41188 entries, 0 to 41187\n",
      "Data columns (total 19 columns):\n",
      " #   Column          Non-Null Count  Dtype  \n",
      "---  ------          --------------  -----  \n",
      " 0   age             41188 non-null  int64  \n",
      " 1   job             40858 non-null  object \n",
      " 2   marital         41108 non-null  object \n",
      " 3   education       39457 non-null  object \n",
      " 4   housing         40198 non-null  object \n",
      " 5   loan            40198 non-null  object \n",
      " 6   contact         41188 non-null  object \n",
      " 7   month           41188 non-null  object \n",
      " 8   day_of_week     41188 non-null  object \n",
      " 9   duration        41188 non-null  int64  \n",
      " 10  campaign        41188 non-null  int64  \n",
      " 11  previous        41188 non-null  int64  \n",
      " 12  poutcome        41188 non-null  object \n",
      " 13  emp_var_rate    41188 non-null  float64\n",
      " 14  cons_price_idx  41188 non-null  float64\n",
      " 15  cons_conf_idx   41188 non-null  float64\n",
      " 16  euribor3m       41188 non-null  float64\n",
      " 17  nr_employed     41188 non-null  float64\n",
      " 18  y               41188 non-null  object \n",
      "dtypes: float64(5), int64(4), object(10)\n",
      "memory usage: 6.0+ MB\n"
     ]
    }
   ],
   "source": [
    "# Verifying we now see some columns have null values, new column names and dropped columns\n",
    "df_bank.info()"
   ]
  },
  {
   "cell_type": "code",
   "execution_count": 9,
   "id": "contrary-maria",
   "metadata": {},
   "outputs": [
    {
     "data": {
      "text/html": [
       "<div>\n",
       "<style scoped>\n",
       "    .dataframe tbody tr th:only-of-type {\n",
       "        vertical-align: middle;\n",
       "    }\n",
       "\n",
       "    .dataframe tbody tr th {\n",
       "        vertical-align: top;\n",
       "    }\n",
       "\n",
       "    .dataframe thead th {\n",
       "        text-align: right;\n",
       "    }\n",
       "</style>\n",
       "<table border=\"1\" class=\"dataframe\">\n",
       "  <thead>\n",
       "    <tr style=\"text-align: right;\">\n",
       "      <th></th>\n",
       "      <th>age</th>\n",
       "      <th>duration</th>\n",
       "      <th>campaign</th>\n",
       "      <th>previous</th>\n",
       "      <th>emp_var_rate</th>\n",
       "      <th>cons_price_idx</th>\n",
       "      <th>cons_conf_idx</th>\n",
       "      <th>euribor3m</th>\n",
       "      <th>nr_employed</th>\n",
       "    </tr>\n",
       "  </thead>\n",
       "  <tbody>\n",
       "    <tr>\n",
       "      <th>count</th>\n",
       "      <td>41188.00000</td>\n",
       "      <td>41188.000000</td>\n",
       "      <td>41188.000000</td>\n",
       "      <td>41188.000000</td>\n",
       "      <td>41188.000000</td>\n",
       "      <td>41188.000000</td>\n",
       "      <td>41188.000000</td>\n",
       "      <td>41188.000000</td>\n",
       "      <td>41188.000000</td>\n",
       "    </tr>\n",
       "    <tr>\n",
       "      <th>mean</th>\n",
       "      <td>40.02406</td>\n",
       "      <td>258.285010</td>\n",
       "      <td>2.567593</td>\n",
       "      <td>0.172963</td>\n",
       "      <td>0.081886</td>\n",
       "      <td>93.575664</td>\n",
       "      <td>-40.502600</td>\n",
       "      <td>3.621291</td>\n",
       "      <td>5167.035911</td>\n",
       "    </tr>\n",
       "    <tr>\n",
       "      <th>std</th>\n",
       "      <td>10.42125</td>\n",
       "      <td>259.279249</td>\n",
       "      <td>2.770014</td>\n",
       "      <td>0.494901</td>\n",
       "      <td>1.570960</td>\n",
       "      <td>0.578840</td>\n",
       "      <td>4.628198</td>\n",
       "      <td>1.734447</td>\n",
       "      <td>72.251528</td>\n",
       "    </tr>\n",
       "    <tr>\n",
       "      <th>min</th>\n",
       "      <td>17.00000</td>\n",
       "      <td>0.000000</td>\n",
       "      <td>1.000000</td>\n",
       "      <td>0.000000</td>\n",
       "      <td>-3.400000</td>\n",
       "      <td>92.201000</td>\n",
       "      <td>-50.800000</td>\n",
       "      <td>0.634000</td>\n",
       "      <td>4963.600000</td>\n",
       "    </tr>\n",
       "    <tr>\n",
       "      <th>25%</th>\n",
       "      <td>32.00000</td>\n",
       "      <td>102.000000</td>\n",
       "      <td>1.000000</td>\n",
       "      <td>0.000000</td>\n",
       "      <td>-1.800000</td>\n",
       "      <td>93.075000</td>\n",
       "      <td>-42.700000</td>\n",
       "      <td>1.344000</td>\n",
       "      <td>5099.100000</td>\n",
       "    </tr>\n",
       "    <tr>\n",
       "      <th>50%</th>\n",
       "      <td>38.00000</td>\n",
       "      <td>180.000000</td>\n",
       "      <td>2.000000</td>\n",
       "      <td>0.000000</td>\n",
       "      <td>1.100000</td>\n",
       "      <td>93.749000</td>\n",
       "      <td>-41.800000</td>\n",
       "      <td>4.857000</td>\n",
       "      <td>5191.000000</td>\n",
       "    </tr>\n",
       "    <tr>\n",
       "      <th>75%</th>\n",
       "      <td>47.00000</td>\n",
       "      <td>319.000000</td>\n",
       "      <td>3.000000</td>\n",
       "      <td>0.000000</td>\n",
       "      <td>1.400000</td>\n",
       "      <td>93.994000</td>\n",
       "      <td>-36.400000</td>\n",
       "      <td>4.961000</td>\n",
       "      <td>5228.100000</td>\n",
       "    </tr>\n",
       "    <tr>\n",
       "      <th>max</th>\n",
       "      <td>98.00000</td>\n",
       "      <td>4918.000000</td>\n",
       "      <td>56.000000</td>\n",
       "      <td>7.000000</td>\n",
       "      <td>1.400000</td>\n",
       "      <td>94.767000</td>\n",
       "      <td>-26.900000</td>\n",
       "      <td>5.045000</td>\n",
       "      <td>5228.100000</td>\n",
       "    </tr>\n",
       "  </tbody>\n",
       "</table>\n",
       "</div>"
      ],
      "text/plain": [
       "               age      duration      campaign      previous  emp_var_rate  \\\n",
       "count  41188.00000  41188.000000  41188.000000  41188.000000  41188.000000   \n",
       "mean      40.02406    258.285010      2.567593      0.172963      0.081886   \n",
       "std       10.42125    259.279249      2.770014      0.494901      1.570960   \n",
       "min       17.00000      0.000000      1.000000      0.000000     -3.400000   \n",
       "25%       32.00000    102.000000      1.000000      0.000000     -1.800000   \n",
       "50%       38.00000    180.000000      2.000000      0.000000      1.100000   \n",
       "75%       47.00000    319.000000      3.000000      0.000000      1.400000   \n",
       "max       98.00000   4918.000000     56.000000      7.000000      1.400000   \n",
       "\n",
       "       cons_price_idx  cons_conf_idx     euribor3m   nr_employed  \n",
       "count    41188.000000   41188.000000  41188.000000  41188.000000  \n",
       "mean        93.575664     -40.502600      3.621291   5167.035911  \n",
       "std          0.578840       4.628198      1.734447     72.251528  \n",
       "min         92.201000     -50.800000      0.634000   4963.600000  \n",
       "25%         93.075000     -42.700000      1.344000   5099.100000  \n",
       "50%         93.749000     -41.800000      4.857000   5191.000000  \n",
       "75%         93.994000     -36.400000      4.961000   5228.100000  \n",
       "max         94.767000     -26.900000      5.045000   5228.100000  "
      ]
     },
     "execution_count": 9,
     "metadata": {},
     "output_type": "execute_result"
    }
   ],
   "source": [
    "# Viewing the desciptive statistics\n",
    "df_bank.describe()"
   ]
  },
  {
   "cell_type": "code",
   "execution_count": 10,
   "id": "looking-project",
   "metadata": {},
   "outputs": [
    {
     "data": {
      "text/plain": [
       "'admin.'"
      ]
     },
     "execution_count": 10,
     "metadata": {},
     "output_type": "execute_result"
    }
   ],
   "source": [
    "# Utilizing .value_counts.idxmax() for categorical data to replace missing values with the most common value\n",
    "df_bank['job'].value_counts().idxmax()"
   ]
  },
  {
   "cell_type": "code",
   "execution_count": 11,
   "id": "proper-window",
   "metadata": {},
   "outputs": [
    {
     "data": {
      "text/plain": [
       "'university.degree'"
      ]
     },
     "execution_count": 11,
     "metadata": {},
     "output_type": "execute_result"
    }
   ],
   "source": [
    "df_bank['education'].value_counts().idxmax()"
   ]
  },
  {
   "cell_type": "code",
   "execution_count": 12,
   "id": "conceptual-accordance",
   "metadata": {},
   "outputs": [
    {
     "data": {
      "text/plain": [
       "'yes'"
      ]
     },
     "execution_count": 12,
     "metadata": {},
     "output_type": "execute_result"
    }
   ],
   "source": [
    "df_bank['housing'].value_counts().idxmax()"
   ]
  },
  {
   "cell_type": "code",
   "execution_count": 13,
   "id": "thirty-legend",
   "metadata": {},
   "outputs": [
    {
     "data": {
      "text/plain": [
       "'no'"
      ]
     },
     "execution_count": 13,
     "metadata": {},
     "output_type": "execute_result"
    }
   ],
   "source": [
    "df_bank['loan'].value_counts().idxmax()"
   ]
  },
  {
   "cell_type": "code",
   "execution_count": 14,
   "id": "random-damage",
   "metadata": {},
   "outputs": [
    {
     "data": {
      "text/plain": [
       "'married'"
      ]
     },
     "execution_count": 14,
     "metadata": {},
     "output_type": "execute_result"
    }
   ],
   "source": [
    "df_bank['marital'].value_counts().idxmax()"
   ]
  },
  {
   "cell_type": "code",
   "execution_count": 15,
   "id": "protected-calgary",
   "metadata": {},
   "outputs": [],
   "source": [
    "# Replacing missing values with the most common value for each column\n",
    "df_bank['loan'].replace(np.nan, \"no\", inplace=True)\n",
    "df_bank['housing'].replace(np.nan, \"yes\", inplace=True)\n",
    "df_bank['education'].replace(np.nan, \"university.degree\", inplace=True)\n",
    "df_bank['job'].replace(np.nan, \"admin.\", inplace=True)\n",
    "df_bank['marital'].replace(np.nan, \"married\", inplace=True)"
   ]
  },
  {
   "cell_type": "code",
   "execution_count": 16,
   "id": "italic-amendment",
   "metadata": {},
   "outputs": [
    {
     "name": "stdout",
     "output_type": "stream",
     "text": [
      "<class 'pandas.core.frame.DataFrame'>\n",
      "RangeIndex: 41188 entries, 0 to 41187\n",
      "Data columns (total 19 columns):\n",
      " #   Column          Non-Null Count  Dtype  \n",
      "---  ------          --------------  -----  \n",
      " 0   age             41188 non-null  int64  \n",
      " 1   job             41188 non-null  object \n",
      " 2   marital         41188 non-null  object \n",
      " 3   education       41188 non-null  object \n",
      " 4   housing         41188 non-null  object \n",
      " 5   loan            41188 non-null  object \n",
      " 6   contact         41188 non-null  object \n",
      " 7   month           41188 non-null  object \n",
      " 8   day_of_week     41188 non-null  object \n",
      " 9   duration        41188 non-null  int64  \n",
      " 10  campaign        41188 non-null  int64  \n",
      " 11  previous        41188 non-null  int64  \n",
      " 12  poutcome        41188 non-null  object \n",
      " 13  emp_var_rate    41188 non-null  float64\n",
      " 14  cons_price_idx  41188 non-null  float64\n",
      " 15  cons_conf_idx   41188 non-null  float64\n",
      " 16  euribor3m       41188 non-null  float64\n",
      " 17  nr_employed     41188 non-null  float64\n",
      " 18  y               41188 non-null  object \n",
      "dtypes: float64(5), int64(4), object(10)\n",
      "memory usage: 6.0+ MB\n"
     ]
    }
   ],
   "source": [
    "# Verifying we no longer have any missing values\n",
    "df_bank.info()"
   ]
  },
  {
   "cell_type": "code",
   "execution_count": 17,
   "id": "earlier-glenn",
   "metadata": {},
   "outputs": [],
   "source": [
    "# Many binary columns have yes and no values, replacing with 1 or 0 to for models which require numeric data\n",
    "df_bank = df_bank.replace({'yes': 1, 'no': 0})"
   ]
  },
  {
   "cell_type": "code",
   "execution_count": 18,
   "id": "retained-barrier",
   "metadata": {},
   "outputs": [
    {
     "name": "stdout",
     "output_type": "stream",
     "text": [
      "bool\n",
      "bool\n"
     ]
    }
   ],
   "source": [
    "# Converting binary columns into new datatype 'boolean'\n",
    "df_bank[[\"housing\", \"loan\",]] = df_bank[[\"housing\", \"loan\"]].astype(\"bool\")\n",
    "print(df_bank['housing'].dtypes)\n",
    "print(df_bank['loan'].dtypes)"
   ]
  },
  {
   "cell_type": "code",
   "execution_count": 19,
   "id": "executive-phenomenon",
   "metadata": {},
   "outputs": [
    {
     "name": "stdout",
     "output_type": "stream",
     "text": [
      "int64\n"
     ]
    }
   ],
   "source": [
    "# Converting our y variable to integer\n",
    "df_bank[\"y\"] = pd.to_numeric(df_bank[\"y\"])\n",
    "print(df_bank[\"y\"].dtypes)"
   ]
  },
  {
   "cell_type": "code",
   "execution_count": 20,
   "id": "scenic-patent",
   "metadata": {
    "scrolled": true
   },
   "outputs": [
    {
     "data": {
      "text/html": [
       "<div>\n",
       "<style scoped>\n",
       "    .dataframe tbody tr th:only-of-type {\n",
       "        vertical-align: middle;\n",
       "    }\n",
       "\n",
       "    .dataframe tbody tr th {\n",
       "        vertical-align: top;\n",
       "    }\n",
       "\n",
       "    .dataframe thead th {\n",
       "        text-align: right;\n",
       "    }\n",
       "</style>\n",
       "<table border=\"1\" class=\"dataframe\">\n",
       "  <thead>\n",
       "    <tr style=\"text-align: right;\">\n",
       "      <th></th>\n",
       "      <th>age</th>\n",
       "      <th>job</th>\n",
       "      <th>marital</th>\n",
       "      <th>education</th>\n",
       "      <th>housing</th>\n",
       "      <th>loan</th>\n",
       "      <th>contact</th>\n",
       "      <th>month</th>\n",
       "      <th>day_of_week</th>\n",
       "      <th>duration</th>\n",
       "      <th>campaign</th>\n",
       "      <th>previous</th>\n",
       "      <th>poutcome</th>\n",
       "      <th>emp_var_rate</th>\n",
       "      <th>cons_price_idx</th>\n",
       "      <th>cons_conf_idx</th>\n",
       "      <th>euribor3m</th>\n",
       "      <th>nr_employed</th>\n",
       "      <th>y</th>\n",
       "    </tr>\n",
       "  </thead>\n",
       "  <tbody>\n",
       "    <tr>\n",
       "      <th>0</th>\n",
       "      <td>56</td>\n",
       "      <td>housemaid</td>\n",
       "      <td>married</td>\n",
       "      <td>basic.4y</td>\n",
       "      <td>False</td>\n",
       "      <td>False</td>\n",
       "      <td>telephone</td>\n",
       "      <td>may</td>\n",
       "      <td>mon</td>\n",
       "      <td>261</td>\n",
       "      <td>1</td>\n",
       "      <td>0</td>\n",
       "      <td>nonexistent</td>\n",
       "      <td>1.1</td>\n",
       "      <td>93.994</td>\n",
       "      <td>-36.4</td>\n",
       "      <td>4.857</td>\n",
       "      <td>5191.0</td>\n",
       "      <td>0</td>\n",
       "    </tr>\n",
       "    <tr>\n",
       "      <th>1</th>\n",
       "      <td>57</td>\n",
       "      <td>services</td>\n",
       "      <td>married</td>\n",
       "      <td>high.school</td>\n",
       "      <td>False</td>\n",
       "      <td>False</td>\n",
       "      <td>telephone</td>\n",
       "      <td>may</td>\n",
       "      <td>mon</td>\n",
       "      <td>149</td>\n",
       "      <td>1</td>\n",
       "      <td>0</td>\n",
       "      <td>nonexistent</td>\n",
       "      <td>1.1</td>\n",
       "      <td>93.994</td>\n",
       "      <td>-36.4</td>\n",
       "      <td>4.857</td>\n",
       "      <td>5191.0</td>\n",
       "      <td>0</td>\n",
       "    </tr>\n",
       "    <tr>\n",
       "      <th>2</th>\n",
       "      <td>37</td>\n",
       "      <td>services</td>\n",
       "      <td>married</td>\n",
       "      <td>high.school</td>\n",
       "      <td>True</td>\n",
       "      <td>False</td>\n",
       "      <td>telephone</td>\n",
       "      <td>may</td>\n",
       "      <td>mon</td>\n",
       "      <td>226</td>\n",
       "      <td>1</td>\n",
       "      <td>0</td>\n",
       "      <td>nonexistent</td>\n",
       "      <td>1.1</td>\n",
       "      <td>93.994</td>\n",
       "      <td>-36.4</td>\n",
       "      <td>4.857</td>\n",
       "      <td>5191.0</td>\n",
       "      <td>0</td>\n",
       "    </tr>\n",
       "    <tr>\n",
       "      <th>3</th>\n",
       "      <td>40</td>\n",
       "      <td>admin.</td>\n",
       "      <td>married</td>\n",
       "      <td>basic.6y</td>\n",
       "      <td>False</td>\n",
       "      <td>False</td>\n",
       "      <td>telephone</td>\n",
       "      <td>may</td>\n",
       "      <td>mon</td>\n",
       "      <td>151</td>\n",
       "      <td>1</td>\n",
       "      <td>0</td>\n",
       "      <td>nonexistent</td>\n",
       "      <td>1.1</td>\n",
       "      <td>93.994</td>\n",
       "      <td>-36.4</td>\n",
       "      <td>4.857</td>\n",
       "      <td>5191.0</td>\n",
       "      <td>0</td>\n",
       "    </tr>\n",
       "    <tr>\n",
       "      <th>4</th>\n",
       "      <td>56</td>\n",
       "      <td>services</td>\n",
       "      <td>married</td>\n",
       "      <td>high.school</td>\n",
       "      <td>False</td>\n",
       "      <td>True</td>\n",
       "      <td>telephone</td>\n",
       "      <td>may</td>\n",
       "      <td>mon</td>\n",
       "      <td>307</td>\n",
       "      <td>1</td>\n",
       "      <td>0</td>\n",
       "      <td>nonexistent</td>\n",
       "      <td>1.1</td>\n",
       "      <td>93.994</td>\n",
       "      <td>-36.4</td>\n",
       "      <td>4.857</td>\n",
       "      <td>5191.0</td>\n",
       "      <td>0</td>\n",
       "    </tr>\n",
       "  </tbody>\n",
       "</table>\n",
       "</div>"
      ],
      "text/plain": [
       "   age        job  marital    education  housing   loan    contact month  \\\n",
       "0   56  housemaid  married     basic.4y    False  False  telephone   may   \n",
       "1   57   services  married  high.school    False  False  telephone   may   \n",
       "2   37   services  married  high.school     True  False  telephone   may   \n",
       "3   40     admin.  married     basic.6y    False  False  telephone   may   \n",
       "4   56   services  married  high.school    False   True  telephone   may   \n",
       "\n",
       "  day_of_week  duration  campaign  previous     poutcome  emp_var_rate  \\\n",
       "0         mon       261         1         0  nonexistent           1.1   \n",
       "1         mon       149         1         0  nonexistent           1.1   \n",
       "2         mon       226         1         0  nonexistent           1.1   \n",
       "3         mon       151         1         0  nonexistent           1.1   \n",
       "4         mon       307         1         0  nonexistent           1.1   \n",
       "\n",
       "   cons_price_idx  cons_conf_idx  euribor3m  nr_employed  y  \n",
       "0          93.994          -36.4      4.857       5191.0  0  \n",
       "1          93.994          -36.4      4.857       5191.0  0  \n",
       "2          93.994          -36.4      4.857       5191.0  0  \n",
       "3          93.994          -36.4      4.857       5191.0  0  \n",
       "4          93.994          -36.4      4.857       5191.0  0  "
      ]
     },
     "execution_count": 20,
     "metadata": {},
     "output_type": "execute_result"
    }
   ],
   "source": [
    "# Verifying replace was successful\n",
    "df_bank.head()"
   ]
  },
  {
   "cell_type": "code",
   "execution_count": 21,
   "id": "small-values",
   "metadata": {},
   "outputs": [],
   "source": [
    "# Grouping education data into Higher Education, Some Education and Little Education\n",
    "df_bank['education'] = df_bank['education'].replace(['university.degree', 'professional.course'],'higher')\n",
    "df_bank['education'] = df_bank['education'].replace(['high.school', 'basic.9y', 'basic.6y'],'some')\n",
    "df_bank['education'] = df_bank['education'].replace(['basic.4y', 'illiterate'],'little')"
   ]
  },
  {
   "cell_type": "code",
   "execution_count": 22,
   "id": "governmental-muscle",
   "metadata": {},
   "outputs": [
    {
     "data": {
      "text/plain": [
       "higher    19142\n",
       "some      17852\n",
       "little     4194\n",
       "Name: education, dtype: int64"
      ]
     },
     "execution_count": 22,
     "metadata": {},
     "output_type": "execute_result"
    }
   ],
   "source": [
    "# Checking counts after replacments\n",
    "df_bank['education'].value_counts()"
   ]
  },
  {
   "cell_type": "code",
   "execution_count": 23,
   "id": "painful-chance",
   "metadata": {},
   "outputs": [
    {
     "data": {
      "text/plain": [
       "Text(0.5, 1.0, 'age distribution')"
      ]
     },
     "execution_count": 23,
     "metadata": {},
     "output_type": "execute_result"
    },
    {
     "data": {
      "image/png": "[encoded data removed]",
      "text/plain": [
       "<Figure size 432x288 with 1 Axes>"
      ]
     },
     "metadata": {},
     "output_type": "display_data"
    }
   ],
   "source": [
    "# Creating histogram to view the distrubtion of age\n",
    "plt.pyplot.hist(df_bank['age'])\n",
    "\n",
    "\n",
    "# Set x/y labels and plot title\n",
    "plt.pyplot.xlabel(\"age\")\n",
    "plt.pyplot.ylabel(\"count\")\n",
    "plt.pyplot.title(\"age distribution\")"
   ]
  },
  {
   "cell_type": "code",
   "execution_count": 24,
   "id": "concrete-motivation",
   "metadata": {},
   "outputs": [],
   "source": [
    "# Creating 4 bins for age\n",
    "df_bank['bin_age'] = pd.qcut(df_bank.age, q=4, labels=False)"
   ]
  },
  {
   "cell_type": "code",
   "execution_count": 25,
   "id": "liquid-behalf",
   "metadata": {},
   "outputs": [
    {
     "data": {
      "text/plain": [
       "0    11176\n",
       "2    10140\n",
       "1     9999\n",
       "3     9873\n",
       "Name: bin_age, dtype: int64"
      ]
     },
     "execution_count": 25,
     "metadata": {},
     "output_type": "execute_result"
    }
   ],
   "source": [
    "df_bank['bin_age'].value_counts()"
   ]
  },
  {
   "cell_type": "code",
   "execution_count": 26,
   "id": "leading-display",
   "metadata": {},
   "outputs": [
    {
     "data": {
      "text/plain": [
       "array([3, 1, 2, 0], dtype=int64)"
      ]
     },
     "execution_count": 26,
     "metadata": {},
     "output_type": "execute_result"
    }
   ],
   "source": [
    "# Verifying creation of age bins\n",
    "df_bank['bin_age'].unique()"
   ]
  },
  {
   "cell_type": "code",
   "execution_count": 27,
   "id": "f3683139",
   "metadata": {},
   "outputs": [],
   "source": [
    "# Dropping age since we have created bin age\n",
    "df_bank.drop(columns = ['age'], inplace=True)"
   ]
  },
  {
   "cell_type": "code",
   "execution_count": 28,
   "id": "0535b4f3",
   "metadata": {},
   "outputs": [],
   "source": [
    "##Creating bins for duration\n",
    "df_bank['bin_duration'] = pd.qcut(df_bank.duration, q=5, labels=False)"
   ]
  },
  {
   "cell_type": "code",
   "execution_count": 29,
   "id": "17e05fe5",
   "metadata": {},
   "outputs": [
    {
     "data": {
      "text/plain": [
       "array([3, 2, 1, 4, 0], dtype=int64)"
      ]
     },
     "execution_count": 29,
     "metadata": {},
     "output_type": "execute_result"
    }
   ],
   "source": [
    "df_bank['bin_duration'].unique()"
   ]
  },
  {
   "cell_type": "code",
   "execution_count": 30,
   "id": "1f8b19a7",
   "metadata": {},
   "outputs": [
    {
     "data": {
      "text/plain": [
       "0    8388\n",
       "2    8274\n",
       "4    8222\n",
       "3    8165\n",
       "1    8139\n",
       "Name: bin_duration, dtype: int64"
      ]
     },
     "execution_count": 30,
     "metadata": {},
     "output_type": "execute_result"
    }
   ],
   "source": [
    "df_bank['bin_duration'].value_counts()"
   ]
  },
  {
   "cell_type": "code",
   "execution_count": 31,
   "id": "eb6f7044",
   "metadata": {},
   "outputs": [],
   "source": [
    "##Changing value names to something more meaningful\n",
    "df_bank['bin_duration'] = df_bank['bin_duration'].replace(0,'HungUp')\n",
    "df_bank['bin_duration'] = df_bank['bin_duration'].replace(1,'ShortCall')\n",
    "df_bank['bin_duration'] = df_bank['bin_duration'].replace(2,'AvgCall')\n",
    "df_bank['bin_duration'] = df_bank['bin_duration'].replace(3,'LongCall')\n",
    "df_bank['bin_duration'] = df_bank['bin_duration'].replace(4,'LongestCall')"
   ]
  },
  {
   "cell_type": "code",
   "execution_count": 32,
   "id": "6661f72a",
   "metadata": {},
   "outputs": [],
   "source": [
    "##No longer need duration\n",
    "df_bank.drop(columns = ['duration'], inplace=True)"
   ]
  },
  {
   "cell_type": "code",
   "execution_count": 33,
   "id": "b8693323",
   "metadata": {},
   "outputs": [],
   "source": [
    "##Changing value names to something more meaningful\n",
    "df_bank['bin_age'] = df_bank['bin_age'].replace(0,'Young')\n",
    "df_bank['bin_age'] = df_bank['bin_age'].replace(1,'Middle')\n",
    "df_bank['bin_age'] = df_bank['bin_age'].replace(2,'Old')\n",
    "df_bank['bin_age'] = df_bank['bin_age'].replace(3,'Older')"
   ]
  },
  {
   "cell_type": "code",
   "execution_count": 34,
   "id": "64cf86c3",
   "metadata": {},
   "outputs": [],
   "source": [
    "##Changing datatypes for dummy variables\n",
    "df_bank['bin_age'] = df_bank['bin_age'].astype('object')\n",
    "df_bank['bin_duration'] = df_bank['bin_duration'].astype('object')"
   ]
  },
  {
   "cell_type": "code",
   "execution_count": 35,
   "id": "3a37a00d",
   "metadata": {},
   "outputs": [
    {
     "data": {
      "text/plain": [
       "Young     11176\n",
       "Old       10140\n",
       "Middle     9999\n",
       "Older      9873\n",
       "Name: bin_age, dtype: int64"
      ]
     },
     "execution_count": 35,
     "metadata": {},
     "output_type": "execute_result"
    }
   ],
   "source": [
    "df_bank['bin_age'].value_counts()"
   ]
  },
  {
   "cell_type": "code",
   "execution_count": 36,
   "id": "f47cd872",
   "metadata": {},
   "outputs": [
    {
     "data": {
      "text/plain": [
       "HungUp         8388\n",
       "AvgCall        8274\n",
       "LongestCall    8222\n",
       "LongCall       8165\n",
       "ShortCall      8139\n",
       "Name: bin_duration, dtype: int64"
      ]
     },
     "execution_count": 36,
     "metadata": {},
     "output_type": "execute_result"
    }
   ],
   "source": [
    "df_bank['bin_duration'].value_counts()"
   ]
  },
  {
   "cell_type": "code",
   "execution_count": 37,
   "id": "wireless-lodging",
   "metadata": {},
   "outputs": [],
   "source": [
    "# Grouping jobs based expected income\n",
    "# Lower Class Employment Status: student, unemployed, housemaid\n",
    "# Middle Class Employment Status: blue-collar, technician, retired, services, admin.\n",
    "# Upper Class Employment Status: management, entrepreneur, self-employed\n",
    "df_bank['job'] = df_bank['job'].replace(['student', 'unemployed', 'housemaid'],'lower')\n",
    "df_bank['job'] = df_bank['job'].replace(['blue-collar', 'technician', 'retired', 'services', 'admin.'],'middle')\n",
    "df_bank['job'] = df_bank['job'].replace(['management', 'entrepreneur', 'self-employed'],'upper')"
   ]
  },
  {
   "cell_type": "code",
   "execution_count": 38,
   "id": "headed-dealing",
   "metadata": {},
   "outputs": [
    {
     "data": {
      "text/plain": [
       "middle    32438\n",
       "upper      5801\n",
       "lower      2949\n",
       "Name: job, dtype: int64"
      ]
     },
     "execution_count": 38,
     "metadata": {},
     "output_type": "execute_result"
    }
   ],
   "source": [
    "# Verifying job replacements and counts\n",
    "df_bank['job'].value_counts()"
   ]
  },
  {
   "cell_type": "code",
   "execution_count": 39,
   "id": "removable-genealogy",
   "metadata": {},
   "outputs": [
    {
     "data": {
      "text/plain": [
       "marital\n",
       "divorced     476\n",
       "married     2544\n",
       "single      1620\n",
       "Name: y, dtype: int64"
      ]
     },
     "execution_count": 39,
     "metadata": {},
     "output_type": "execute_result"
    }
   ],
   "source": [
    "# This shows how many of each marital category said yes to subscribing to a term deposit\n",
    "df_bank.groupby(['marital']).y.sum()"
   ]
  },
  {
   "cell_type": "code",
   "execution_count": 40,
   "id": "scenic-cattle",
   "metadata": {},
   "outputs": [
    {
     "name": "stdout",
     "output_type": "stream",
     "text": [
      "0.1017274472168906\n"
     ]
    }
   ],
   "source": [
    "# Calculating the proportion of \"yes\" by each marital status\n",
    "print(df_bank[df_bank.marital == 'married'].y.sum()/df_bank[df_bank.marital == 'married'].y.count())"
   ]
  },
  {
   "cell_type": "code",
   "execution_count": 41,
   "id": "standard-thanksgiving",
   "metadata": {},
   "outputs": [
    {
     "name": "stdout",
     "output_type": "stream",
     "text": [
      "0.1400414937759336\n"
     ]
    }
   ],
   "source": [
    "print(df_bank[df_bank.marital == 'single'].y.sum()/df_bank[df_bank.marital == 'single'].y.count())"
   ]
  },
  {
   "cell_type": "code",
   "execution_count": 42,
   "id": "existing-southeast",
   "metadata": {},
   "outputs": [
    {
     "name": "stdout",
     "output_type": "stream",
     "text": [
      "0.10320901994796183\n"
     ]
    }
   ],
   "source": [
    "print(df_bank[df_bank.marital == 'divorced'].y.sum()/df_bank[df_bank.marital == 'divorced'].y.count())"
   ]
  },
  {
   "cell_type": "code",
   "execution_count": 43,
   "id": "exterior-bidding",
   "metadata": {},
   "outputs": [
    {
     "data": {
      "text/plain": [
       "<seaborn.axisgrid.FacetGrid at 0x13c3f7f8e20>"
      ]
     },
     "execution_count": 43,
     "metadata": {},
     "output_type": "execute_result"
    },
    {
     "data": {
      "image/png": "[encoded data removed]",
      "text/plain": [
       "<Figure size 1080x360 with 3 Axes>"
      ]
     },
     "metadata": {},
     "output_type": "display_data"
    }
   ],
   "source": [
    "# Exploring marital status impact on subscribed a deposit (y)\n",
    "sns.catplot(x='y', col='marital', kind='count', data=df_bank, col_wrap=3)"
   ]
  },
  {
   "cell_type": "code",
   "execution_count": 44,
   "id": "circular-israel",
   "metadata": {
    "scrolled": true
   },
   "outputs": [
    {
     "data": {
      "text/plain": [
       "<seaborn.axisgrid.FacetGrid at 0x13c406f2fd0>"
      ]
     },
     "execution_count": 44,
     "metadata": {},
     "output_type": "execute_result"
    },
    {
     "data": {
      "image/png": "[encoded data removed]",
      "text/plain": [
       "<Figure size 1080x360 with 3 Axes>"
      ]
     },
     "metadata": {},
     "output_type": "display_data"
    }
   ],
   "source": [
    "# Exploring education impact on subscribed a deposit (y)\n",
    "sns.catplot(x='y', col='education', kind='count', data=df_bank, col_wrap=3)"
   ]
  },
  {
   "cell_type": "code",
   "execution_count": 45,
   "id": "faced-congo",
   "metadata": {},
   "outputs": [
    {
     "data": {
      "text/plain": [
       "<seaborn.axisgrid.FacetGrid at 0x13c3f7deeb0>"
      ]
     },
     "execution_count": 45,
     "metadata": {},
     "output_type": "execute_result"
    },
    {
     "data": {
      "image/png": "[encoded data removed]",
      "text/plain": [
       "<Figure size 1080x360 with 3 Axes>"
      ]
     },
     "metadata": {},
     "output_type": "display_data"
    }
   ],
   "source": [
    "# Exploring job impact on subscribed a deposit (y)\n",
    "sns.catplot(x='y', col='job', kind='count', data=df_bank, col_wrap=3)"
   ]
  },
  {
   "cell_type": "code",
   "execution_count": 46,
   "id": "optimum-vacuum",
   "metadata": {},
   "outputs": [
    {
     "data": {
      "text/plain": [
       "<seaborn.axisgrid.FacetGrid at 0x13c40005c40>"
      ]
     },
     "execution_count": 46,
     "metadata": {},
     "output_type": "execute_result"
    },
    {
     "data": {
      "image/png": "[encoded data removed]",
      "text/plain": [
       "<Figure size 1080x360 with 3 Axes>"
      ]
     },
     "metadata": {},
     "output_type": "display_data"
    }
   ],
   "source": [
    "#Exploring previous outcome impact on subscribed a deposit (y)\n",
    "sns.catplot(x='y', col='poutcome', kind='count', data=df_bank, col_wrap=3)"
   ]
  },
  {
   "cell_type": "code",
   "execution_count": 47,
   "id": "wooden-lebanon",
   "metadata": {},
   "outputs": [
    {
     "data": {
      "text/plain": [
       "<seaborn.axisgrid.FacetGrid at 0x13c40b1a5b0>"
      ]
     },
     "execution_count": 47,
     "metadata": {},
     "output_type": "execute_result"
    },
    {
     "data": {
      "image/png": "[encoded data removed]",
      "text/plain": [
       "<Figure size 1080x720 with 5 Axes>"
      ]
     },
     "metadata": {},
     "output_type": "display_data"
    }
   ],
   "source": [
    "#Exploring if different days of the week impact on subscribed a deposit (y)\n",
    "sns.catplot(x='y', col='day_of_week', kind='count', data=df_bank, col_wrap=3)"
   ]
  },
  {
   "cell_type": "code",
   "execution_count": 48,
   "id": "included-stroke",
   "metadata": {
    "scrolled": true
   },
   "outputs": [
    {
     "data": {
      "text/plain": [
       "<seaborn.axisgrid.FacetGrid at 0x13c40b3beb0>"
      ]
     },
     "execution_count": 48,
     "metadata": {},
     "output_type": "execute_result"
    },
    {
     "data": {
      "image/png": "[encoded data removed]",
      "text/plain": [
       "<Figure size 1080x1440 with 10 Axes>"
      ]
     },
     "metadata": {},
     "output_type": "display_data"
    }
   ],
   "source": [
    "#Exploring if different months impact on subscribed a deposit (y)\n",
    "sns.catplot(x='y', col='month', kind='count', data=df_bank, col_wrap=3)"
   ]
  },
  {
   "cell_type": "code",
   "execution_count": 49,
   "id": "8904f5f5",
   "metadata": {},
   "outputs": [],
   "source": [
    "##Normalizing Numerical Columns before proceeding with the creation of the model\n",
    "from sklearn import preprocessing\n",
    "from sklearn.preprocessing import StandardScaler\n",
    "\n",
    "cols_to_norm = ['emp_var_rate', 'cons_price_idx', 'cons_conf_idx', 'euribor3m', 'nr_employed']\n",
    "df_bank[cols_to_norm] = StandardScaler().fit_transform(df_bank[cols_to_norm])"
   ]
  },
  {
   "cell_type": "code",
   "execution_count": 50,
   "id": "1d6df69b",
   "metadata": {},
   "outputs": [
    {
     "name": "stdout",
     "output_type": "stream",
     "text": [
      "       emp_var_rate  cons_price_idx  cons_conf_idx  euribor3m  nr_employed\n",
      "0          0.648092        0.722722       0.886447   0.712460     0.331680\n",
      "1          0.648092        0.722722       0.886447   0.712460     0.331680\n",
      "2          0.648092        0.722722       0.886447   0.712460     0.331680\n",
      "3          0.648092        0.722722       0.886447   0.712460     0.331680\n",
      "4          0.648092        0.722722       0.886447   0.712460     0.331680\n",
      "...             ...             ...            ...        ...          ...\n",
      "41183     -0.752343        2.058168      -2.224953  -1.495186    -2.815697\n",
      "41184     -0.752343        2.058168      -2.224953  -1.495186    -2.815697\n",
      "41185     -0.752343        2.058168      -2.224953  -1.495186    -2.815697\n",
      "41186     -0.752343        2.058168      -2.224953  -1.495186    -2.815697\n",
      "41187     -0.752343        2.058168      -2.224953  -1.495186    -2.815697\n",
      "\n",
      "[41188 rows x 5 columns]\n"
     ]
    }
   ],
   "source": [
    "print(df_bank[cols_to_norm])"
   ]
  },
  {
   "cell_type": "code",
   "execution_count": 51,
   "id": "environmental-denmark",
   "metadata": {},
   "outputs": [
    {
     "data": {
      "text/html": [
       "<div>\n",
       "<style scoped>\n",
       "    .dataframe tbody tr th:only-of-type {\n",
       "        vertical-align: middle;\n",
       "    }\n",
       "\n",
       "    .dataframe tbody tr th {\n",
       "        vertical-align: top;\n",
       "    }\n",
       "\n",
       "    .dataframe thead th {\n",
       "        text-align: right;\n",
       "    }\n",
       "</style>\n",
       "<table border=\"1\" class=\"dataframe\">\n",
       "  <thead>\n",
       "    <tr style=\"text-align: right;\">\n",
       "      <th></th>\n",
       "      <th>housing</th>\n",
       "      <th>loan</th>\n",
       "      <th>campaign</th>\n",
       "      <th>previous</th>\n",
       "      <th>emp_var_rate</th>\n",
       "      <th>cons_price_idx</th>\n",
       "      <th>cons_conf_idx</th>\n",
       "      <th>euribor3m</th>\n",
       "      <th>nr_employed</th>\n",
       "      <th>y</th>\n",
       "      <th>...</th>\n",
       "      <th>day_of_week_wed</th>\n",
       "      <th>poutcome_nonexistent</th>\n",
       "      <th>poutcome_success</th>\n",
       "      <th>bin_age_Old</th>\n",
       "      <th>bin_age_Older</th>\n",
       "      <th>bin_age_Young</th>\n",
       "      <th>bin_duration_HungUp</th>\n",
       "      <th>bin_duration_LongCall</th>\n",
       "      <th>bin_duration_LongestCall</th>\n",
       "      <th>bin_duration_ShortCall</th>\n",
       "    </tr>\n",
       "  </thead>\n",
       "  <tbody>\n",
       "    <tr>\n",
       "      <th>0</th>\n",
       "      <td>False</td>\n",
       "      <td>False</td>\n",
       "      <td>1</td>\n",
       "      <td>0</td>\n",
       "      <td>0.648092</td>\n",
       "      <td>0.722722</td>\n",
       "      <td>0.886447</td>\n",
       "      <td>0.71246</td>\n",
       "      <td>0.33168</td>\n",
       "      <td>0</td>\n",
       "      <td>...</td>\n",
       "      <td>0</td>\n",
       "      <td>1</td>\n",
       "      <td>0</td>\n",
       "      <td>0</td>\n",
       "      <td>1</td>\n",
       "      <td>0</td>\n",
       "      <td>0</td>\n",
       "      <td>1</td>\n",
       "      <td>0</td>\n",
       "      <td>0</td>\n",
       "    </tr>\n",
       "    <tr>\n",
       "      <th>1</th>\n",
       "      <td>False</td>\n",
       "      <td>False</td>\n",
       "      <td>1</td>\n",
       "      <td>0</td>\n",
       "      <td>0.648092</td>\n",
       "      <td>0.722722</td>\n",
       "      <td>0.886447</td>\n",
       "      <td>0.71246</td>\n",
       "      <td>0.33168</td>\n",
       "      <td>0</td>\n",
       "      <td>...</td>\n",
       "      <td>0</td>\n",
       "      <td>1</td>\n",
       "      <td>0</td>\n",
       "      <td>0</td>\n",
       "      <td>1</td>\n",
       "      <td>0</td>\n",
       "      <td>0</td>\n",
       "      <td>0</td>\n",
       "      <td>0</td>\n",
       "      <td>0</td>\n",
       "    </tr>\n",
       "    <tr>\n",
       "      <th>2</th>\n",
       "      <td>True</td>\n",
       "      <td>False</td>\n",
       "      <td>1</td>\n",
       "      <td>0</td>\n",
       "      <td>0.648092</td>\n",
       "      <td>0.722722</td>\n",
       "      <td>0.886447</td>\n",
       "      <td>0.71246</td>\n",
       "      <td>0.33168</td>\n",
       "      <td>0</td>\n",
       "      <td>...</td>\n",
       "      <td>0</td>\n",
       "      <td>1</td>\n",
       "      <td>0</td>\n",
       "      <td>0</td>\n",
       "      <td>0</td>\n",
       "      <td>0</td>\n",
       "      <td>0</td>\n",
       "      <td>1</td>\n",
       "      <td>0</td>\n",
       "      <td>0</td>\n",
       "    </tr>\n",
       "    <tr>\n",
       "      <th>3</th>\n",
       "      <td>False</td>\n",
       "      <td>False</td>\n",
       "      <td>1</td>\n",
       "      <td>0</td>\n",
       "      <td>0.648092</td>\n",
       "      <td>0.722722</td>\n",
       "      <td>0.886447</td>\n",
       "      <td>0.71246</td>\n",
       "      <td>0.33168</td>\n",
       "      <td>0</td>\n",
       "      <td>...</td>\n",
       "      <td>0</td>\n",
       "      <td>1</td>\n",
       "      <td>0</td>\n",
       "      <td>1</td>\n",
       "      <td>0</td>\n",
       "      <td>0</td>\n",
       "      <td>0</td>\n",
       "      <td>0</td>\n",
       "      <td>0</td>\n",
       "      <td>0</td>\n",
       "    </tr>\n",
       "    <tr>\n",
       "      <th>4</th>\n",
       "      <td>False</td>\n",
       "      <td>True</td>\n",
       "      <td>1</td>\n",
       "      <td>0</td>\n",
       "      <td>0.648092</td>\n",
       "      <td>0.722722</td>\n",
       "      <td>0.886447</td>\n",
       "      <td>0.71246</td>\n",
       "      <td>0.33168</td>\n",
       "      <td>0</td>\n",
       "      <td>...</td>\n",
       "      <td>0</td>\n",
       "      <td>1</td>\n",
       "      <td>0</td>\n",
       "      <td>0</td>\n",
       "      <td>1</td>\n",
       "      <td>0</td>\n",
       "      <td>0</td>\n",
       "      <td>1</td>\n",
       "      <td>0</td>\n",
       "      <td>0</td>\n",
       "    </tr>\n",
       "  </tbody>\n",
       "</table>\n",
       "<p>5 rows × 39 columns</p>\n",
       "</div>"
      ],
      "text/plain": [
       "   housing   loan  campaign  previous  emp_var_rate  cons_price_idx  \\\n",
       "0    False  False         1         0      0.648092        0.722722   \n",
       "1    False  False         1         0      0.648092        0.722722   \n",
       "2     True  False         1         0      0.648092        0.722722   \n",
       "3    False  False         1         0      0.648092        0.722722   \n",
       "4    False   True         1         0      0.648092        0.722722   \n",
       "\n",
       "   cons_conf_idx  euribor3m  nr_employed  y  ...  day_of_week_wed  \\\n",
       "0       0.886447    0.71246      0.33168  0  ...                0   \n",
       "1       0.886447    0.71246      0.33168  0  ...                0   \n",
       "2       0.886447    0.71246      0.33168  0  ...                0   \n",
       "3       0.886447    0.71246      0.33168  0  ...                0   \n",
       "4       0.886447    0.71246      0.33168  0  ...                0   \n",
       "\n",
       "   poutcome_nonexistent  poutcome_success  bin_age_Old  bin_age_Older  \\\n",
       "0                     1                 0            0              1   \n",
       "1                     1                 0            0              1   \n",
       "2                     1                 0            0              0   \n",
       "3                     1                 0            1              0   \n",
       "4                     1                 0            0              1   \n",
       "\n",
       "   bin_age_Young  bin_duration_HungUp  bin_duration_LongCall  \\\n",
       "0              0                    0                      1   \n",
       "1              0                    0                      0   \n",
       "2              0                    0                      1   \n",
       "3              0                    0                      0   \n",
       "4              0                    0                      1   \n",
       "\n",
       "   bin_duration_LongestCall  bin_duration_ShortCall  \n",
       "0                         0                       0  \n",
       "1                         0                       0  \n",
       "2                         0                       0  \n",
       "3                         0                       0  \n",
       "4                         0                       0  \n",
       "\n",
       "[5 rows x 39 columns]"
      ]
     },
     "execution_count": 51,
     "metadata": {},
     "output_type": "execute_result"
    }
   ],
   "source": [
    "# Creating dummy variables so that all values are numeric in preparation for modeling\n",
    "bank_dum = pd.get_dummies(df_bank, drop_first=True)\n",
    "bank_dum.head()"
   ]
  },
  {
   "cell_type": "code",
   "execution_count": 52,
   "id": "interesting-trainer",
   "metadata": {},
   "outputs": [
    {
     "name": "stdout",
     "output_type": "stream",
     "text": [
      "<class 'pandas.core.frame.DataFrame'>\n",
      "RangeIndex: 41188 entries, 0 to 41187\n",
      "Data columns (total 39 columns):\n",
      " #   Column                    Non-Null Count  Dtype  \n",
      "---  ------                    --------------  -----  \n",
      " 0   housing                   41188 non-null  bool   \n",
      " 1   loan                      41188 non-null  bool   \n",
      " 2   campaign                  41188 non-null  int64  \n",
      " 3   previous                  41188 non-null  int64  \n",
      " 4   emp_var_rate              41188 non-null  float64\n",
      " 5   cons_price_idx            41188 non-null  float64\n",
      " 6   cons_conf_idx             41188 non-null  float64\n",
      " 7   euribor3m                 41188 non-null  float64\n",
      " 8   nr_employed               41188 non-null  float64\n",
      " 9   y                         41188 non-null  int64  \n",
      " 10  job_middle                41188 non-null  uint8  \n",
      " 11  job_upper                 41188 non-null  uint8  \n",
      " 12  marital_married           41188 non-null  uint8  \n",
      " 13  marital_single            41188 non-null  uint8  \n",
      " 14  education_little          41188 non-null  uint8  \n",
      " 15  education_some            41188 non-null  uint8  \n",
      " 16  contact_telephone         41188 non-null  uint8  \n",
      " 17  month_aug                 41188 non-null  uint8  \n",
      " 18  month_dec                 41188 non-null  uint8  \n",
      " 19  month_jul                 41188 non-null  uint8  \n",
      " 20  month_jun                 41188 non-null  uint8  \n",
      " 21  month_mar                 41188 non-null  uint8  \n",
      " 22  month_may                 41188 non-null  uint8  \n",
      " 23  month_nov                 41188 non-null  uint8  \n",
      " 24  month_oct                 41188 non-null  uint8  \n",
      " 25  month_sep                 41188 non-null  uint8  \n",
      " 26  day_of_week_mon           41188 non-null  uint8  \n",
      " 27  day_of_week_thu           41188 non-null  uint8  \n",
      " 28  day_of_week_tue           41188 non-null  uint8  \n",
      " 29  day_of_week_wed           41188 non-null  uint8  \n",
      " 30  poutcome_nonexistent      41188 non-null  uint8  \n",
      " 31  poutcome_success          41188 non-null  uint8  \n",
      " 32  bin_age_Old               41188 non-null  uint8  \n",
      " 33  bin_age_Older             41188 non-null  uint8  \n",
      " 34  bin_age_Young             41188 non-null  uint8  \n",
      " 35  bin_duration_HungUp       41188 non-null  uint8  \n",
      " 36  bin_duration_LongCall     41188 non-null  uint8  \n",
      " 37  bin_duration_LongestCall  41188 non-null  uint8  \n",
      " 38  bin_duration_ShortCall    41188 non-null  uint8  \n",
      "dtypes: bool(2), float64(5), int64(3), uint8(29)\n",
      "memory usage: 3.7 MB\n"
     ]
    }
   ],
   "source": [
    "# Verifying the creation of new columns\n",
    "bank_dum.info()"
   ]
  },
  {
   "cell_type": "code",
   "execution_count": 53,
   "id": "arctic-grove",
   "metadata": {},
   "outputs": [],
   "source": [
    "# Designating X and y to use in test/train split creation\n",
    "X = bank_dum[['housing', 'loan', 'campaign', 'previous', 'emp_var_rate',\n",
    "       'cons_price_idx', 'cons_conf_idx', 'euribor3m', 'nr_employed',\n",
    "       'job_middle', 'job_upper', 'marital_married', 'marital_single',\n",
    "       'education_little', 'education_some', 'contact_telephone', 'month_aug',\n",
    "       'month_dec', 'month_jul', 'month_jun', 'month_mar', 'month_may',\n",
    "       'month_nov', 'month_oct', 'month_sep', 'day_of_week_mon',\n",
    "       'day_of_week_thu', 'day_of_week_tue', 'day_of_week_wed',\n",
    "       'poutcome_nonexistent', 'poutcome_success', 'bin_age_Old',\n",
    "       'bin_age_Older', 'bin_age_Young', 'bin_duration_HungUp',\n",
    "       'bin_duration_LongCall', 'bin_duration_LongestCall',\n",
    "       'bin_duration_ShortCall']]\n",
    "y = bank_dum['y']"
   ]
  },
  {
   "cell_type": "code",
   "execution_count": 54,
   "id": "sublime-thanksgiving",
   "metadata": {},
   "outputs": [],
   "source": [
    "# Creating test/train split \n",
    "X_train, X_test, y_train, y_test = train_test_split(X, y, test_size=0.2, random_state=9)"
   ]
  },
  {
   "cell_type": "code",
   "execution_count": 55,
   "id": "filled-banking",
   "metadata": {},
   "outputs": [
    {
     "data": {
      "text/html": [
       "<div>\n",
       "<style scoped>\n",
       "    .dataframe tbody tr th:only-of-type {\n",
       "        vertical-align: middle;\n",
       "    }\n",
       "\n",
       "    .dataframe tbody tr th {\n",
       "        vertical-align: top;\n",
       "    }\n",
       "\n",
       "    .dataframe thead th {\n",
       "        text-align: right;\n",
       "    }\n",
       "</style>\n",
       "<table border=\"1\" class=\"dataframe\">\n",
       "  <thead>\n",
       "    <tr style=\"text-align: right;\">\n",
       "      <th></th>\n",
       "      <th>housing</th>\n",
       "      <th>loan</th>\n",
       "      <th>campaign</th>\n",
       "      <th>previous</th>\n",
       "      <th>emp_var_rate</th>\n",
       "      <th>cons_price_idx</th>\n",
       "      <th>cons_conf_idx</th>\n",
       "      <th>euribor3m</th>\n",
       "      <th>nr_employed</th>\n",
       "      <th>job_middle</th>\n",
       "      <th>...</th>\n",
       "      <th>day_of_week_wed</th>\n",
       "      <th>poutcome_nonexistent</th>\n",
       "      <th>poutcome_success</th>\n",
       "      <th>bin_age_Old</th>\n",
       "      <th>bin_age_Older</th>\n",
       "      <th>bin_age_Young</th>\n",
       "      <th>bin_duration_HungUp</th>\n",
       "      <th>bin_duration_LongCall</th>\n",
       "      <th>bin_duration_LongestCall</th>\n",
       "      <th>bin_duration_ShortCall</th>\n",
       "    </tr>\n",
       "  </thead>\n",
       "  <tbody>\n",
       "    <tr>\n",
       "      <th>37983</th>\n",
       "      <td>False</td>\n",
       "      <td>False</td>\n",
       "      <td>1</td>\n",
       "      <td>0</td>\n",
       "      <td>-2.216433</td>\n",
       "      <td>-2.067374</td>\n",
       "      <td>2.312505</td>\n",
       "      <td>-1.628372</td>\n",
       "      <td>-2.069683</td>\n",
       "      <td>1</td>\n",
       "      <td>...</td>\n",
       "      <td>0</td>\n",
       "      <td>1</td>\n",
       "      <td>0</td>\n",
       "      <td>1</td>\n",
       "      <td>0</td>\n",
       "      <td>0</td>\n",
       "      <td>0</td>\n",
       "      <td>0</td>\n",
       "      <td>1</td>\n",
       "      <td>0</td>\n",
       "    </tr>\n",
       "    <tr>\n",
       "      <th>21120</th>\n",
       "      <td>False</td>\n",
       "      <td>False</td>\n",
       "      <td>4</td>\n",
       "      <td>0</td>\n",
       "      <td>0.839061</td>\n",
       "      <td>-0.227465</td>\n",
       "      <td>0.951267</td>\n",
       "      <td>0.773575</td>\n",
       "      <td>0.845170</td>\n",
       "      <td>0</td>\n",
       "      <td>...</td>\n",
       "      <td>0</td>\n",
       "      <td>1</td>\n",
       "      <td>0</td>\n",
       "      <td>0</td>\n",
       "      <td>0</td>\n",
       "      <td>0</td>\n",
       "      <td>0</td>\n",
       "      <td>0</td>\n",
       "      <td>0</td>\n",
       "      <td>0</td>\n",
       "    </tr>\n",
       "    <tr>\n",
       "      <th>16712</th>\n",
       "      <td>True</td>\n",
       "      <td>False</td>\n",
       "      <td>4</td>\n",
       "      <td>0</td>\n",
       "      <td>0.839061</td>\n",
       "      <td>0.591424</td>\n",
       "      <td>-0.474791</td>\n",
       "      <td>0.773575</td>\n",
       "      <td>0.845170</td>\n",
       "      <td>1</td>\n",
       "      <td>...</td>\n",
       "      <td>1</td>\n",
       "      <td>1</td>\n",
       "      <td>0</td>\n",
       "      <td>0</td>\n",
       "      <td>1</td>\n",
       "      <td>0</td>\n",
       "      <td>0</td>\n",
       "      <td>0</td>\n",
       "      <td>0</td>\n",
       "      <td>1</td>\n",
       "    </tr>\n",
       "    <tr>\n",
       "      <th>27073</th>\n",
       "      <td>True</td>\n",
       "      <td>False</td>\n",
       "      <td>2</td>\n",
       "      <td>0</td>\n",
       "      <td>-0.115781</td>\n",
       "      <td>-0.649003</td>\n",
       "      <td>-0.323542</td>\n",
       "      <td>0.230456</td>\n",
       "      <td>0.398115</td>\n",
       "      <td>1</td>\n",
       "      <td>...</td>\n",
       "      <td>0</td>\n",
       "      <td>1</td>\n",
       "      <td>0</td>\n",
       "      <td>0</td>\n",
       "      <td>0</td>\n",
       "      <td>0</td>\n",
       "      <td>1</td>\n",
       "      <td>0</td>\n",
       "      <td>0</td>\n",
       "      <td>0</td>\n",
       "    </tr>\n",
       "    <tr>\n",
       "      <th>19516</th>\n",
       "      <td>True</td>\n",
       "      <td>True</td>\n",
       "      <td>1</td>\n",
       "      <td>0</td>\n",
       "      <td>0.839061</td>\n",
       "      <td>-0.227465</td>\n",
       "      <td>0.951267</td>\n",
       "      <td>0.776458</td>\n",
       "      <td>0.845170</td>\n",
       "      <td>0</td>\n",
       "      <td>...</td>\n",
       "      <td>0</td>\n",
       "      <td>1</td>\n",
       "      <td>0</td>\n",
       "      <td>0</td>\n",
       "      <td>1</td>\n",
       "      <td>0</td>\n",
       "      <td>0</td>\n",
       "      <td>0</td>\n",
       "      <td>0</td>\n",
       "      <td>1</td>\n",
       "    </tr>\n",
       "  </tbody>\n",
       "</table>\n",
       "<p>5 rows × 38 columns</p>\n",
       "</div>"
      ],
      "text/plain": [
       "       housing   loan  campaign  previous  emp_var_rate  cons_price_idx  \\\n",
       "37983    False  False         1         0     -2.216433       -2.067374   \n",
       "21120    False  False         4         0      0.839061       -0.227465   \n",
       "16712     True  False         4         0      0.839061        0.591424   \n",
       "27073     True  False         2         0     -0.115781       -0.649003   \n",
       "19516     True   True         1         0      0.839061       -0.227465   \n",
       "\n",
       "       cons_conf_idx  euribor3m  nr_employed  job_middle  ...  \\\n",
       "37983       2.312505  -1.628372    -2.069683           1  ...   \n",
       "21120       0.951267   0.773575     0.845170           0  ...   \n",
       "16712      -0.474791   0.773575     0.845170           1  ...   \n",
       "27073      -0.323542   0.230456     0.398115           1  ...   \n",
       "19516       0.951267   0.776458     0.845170           0  ...   \n",
       "\n",
       "       day_of_week_wed  poutcome_nonexistent  poutcome_success  bin_age_Old  \\\n",
       "37983                0                     1                 0            1   \n",
       "21120                0                     1                 0            0   \n",
       "16712                1                     1                 0            0   \n",
       "27073                0                     1                 0            0   \n",
       "19516                0                     1                 0            0   \n",
       "\n",
       "       bin_age_Older  bin_age_Young  bin_duration_HungUp  \\\n",
       "37983              0              0                    0   \n",
       "21120              0              0                    0   \n",
       "16712              1              0                    0   \n",
       "27073              0              0                    1   \n",
       "19516              1              0                    0   \n",
       "\n",
       "       bin_duration_LongCall  bin_duration_LongestCall  bin_duration_ShortCall  \n",
       "37983                      0                         1                       0  \n",
       "21120                      0                         0                       0  \n",
       "16712                      0                         0                       1  \n",
       "27073                      0                         0                       0  \n",
       "19516                      0                         0                       1  \n",
       "\n",
       "[5 rows x 38 columns]"
      ]
     },
     "execution_count": 55,
     "metadata": {},
     "output_type": "execute_result"
    }
   ],
   "source": [
    "#Verifying split functioned correctly\n",
    "X_train.head()"
   ]
  },
  {
   "cell_type": "code",
   "execution_count": 56,
   "id": "residential-viking",
   "metadata": {},
   "outputs": [
    {
     "data": {
      "text/plain": [
       "36602    1\n",
       "23099    0\n",
       "37300    0\n",
       "30230    1\n",
       "4673     0\n",
       "25725    0\n",
       "5014     0\n",
       "22584    0\n",
       "501      0\n",
       "20828    0\n",
       "Name: y, dtype: int64"
      ]
     },
     "execution_count": 56,
     "metadata": {},
     "output_type": "execute_result"
    }
   ],
   "source": [
    "y_train.tail(10)"
   ]
  },
  {
   "cell_type": "code",
   "execution_count": 57,
   "id": "wound-scoop",
   "metadata": {},
   "outputs": [],
   "source": [
    "##We believe that the best course of action would be to create a random forest using our best predictors.\n",
    "from sklearn import metrics\n",
    "from sklearn.ensemble import RandomForestRegressor\n",
    "from sklearn.metrics import mean_squared_error, r2_score"
   ]
  },
  {
   "cell_type": "code",
   "execution_count": 58,
   "id": "incorrect-portuguese",
   "metadata": {},
   "outputs": [
    {
     "data": {
      "text/plain": [
       "RandomForestRegressor(max_depth=7, n_estimators=200)"
      ]
     },
     "execution_count": 58,
     "metadata": {},
     "output_type": "execute_result"
    }
   ],
   "source": [
    "##Setting up random forest with parameters\n",
    "model = RandomForestRegressor(n_estimators=200, max_depth=7, bootstrap=True)\n",
    "model.fit(X_train, y_train)"
   ]
  },
  {
   "cell_type": "code",
   "execution_count": 59,
   "id": "copyrighted-water",
   "metadata": {},
   "outputs": [],
   "source": [
    "y_pred = model.predict(X_test)"
   ]
  },
  {
   "cell_type": "code",
   "execution_count": 60,
   "id": "artificial-attention",
   "metadata": {},
   "outputs": [
    {
     "name": "stdout",
     "output_type": "stream",
     "text": [
      "Mean squared error: 0.06361586301031498\n",
      "R-Squared: 0.37067166522629424\n"
     ]
    }
   ],
   "source": [
    "# The mean squared error\n",
    "mse = mean_squared_error(y_test, y_pred)\n",
    "print('Mean squared error:', mse)\n",
    "\n",
    "# The coefficient of determination: 1 is perfect prediction\n",
    "r2 = r2_score(y_test, y_pred)\n",
    "print('R-Squared:', r2)"
   ]
  },
  {
   "cell_type": "code",
   "execution_count": 61,
   "id": "aa57e5ad",
   "metadata": {},
   "outputs": [
    {
     "data": {
      "text/plain": [
       "200"
      ]
     },
     "execution_count": 61,
     "metadata": {},
     "output_type": "execute_result"
    }
   ],
   "source": [
    "len(model.estimators_)"
   ]
  },
  {
   "cell_type": "code",
   "execution_count": 62,
   "id": "c9e05411",
   "metadata": {},
   "outputs": [
    {
     "data": {
      "image/png": "[encoded data removed]",
      "text/plain": [
       "<Figure size 432x288 with 1 Axes>"
      ]
     },
     "metadata": {},
     "output_type": "display_data"
    }
   ],
   "source": [
    "##This plot lists the features in order of importance\n",
    "import matplotlib.pyplot as plt\n",
    "##showing the most important features\n",
    "importances = pd.Series(data=model.feature_importances_,\n",
    "                        index=X_train.columns)\n",
    "\n",
    "importances_sorted = importances.sort_values()\n",
    "                                    \n",
    "importances_sorted.plot(kind='barh', color='lightgreen')\n",
    "plt.title('Features Importances')\n",
    "plt.show()"
   ]
  },
  {
   "cell_type": "code",
   "execution_count": 63,
   "id": "b60dcacb",
   "metadata": {},
   "outputs": [
    {
     "name": "stdout",
     "output_type": "stream",
     "text": [
      "                          importance\n",
      "nr_employed                 0.360122\n",
      "bin_duration_LongestCall    0.260333\n",
      "poutcome_success            0.070886\n",
      "euribor3m                   0.061882\n",
      "bin_duration_LongCall       0.036963\n",
      "bin_duration_HungUp         0.032632\n",
      "cons_conf_idx               0.032003\n",
      "bin_duration_ShortCall      0.031733\n",
      "cons_price_idx              0.022664\n",
      "month_oct                   0.012219\n",
      "campaign                    0.012052\n",
      "month_mar                   0.006383\n",
      "education_some              0.005097\n",
      "contact_telephone           0.005047\n",
      "bin_age_Young               0.004209\n",
      "day_of_week_mon             0.003991\n",
      "month_may                   0.003939\n",
      "day_of_week_tue             0.003621\n",
      "day_of_week_wed             0.003507\n",
      "bin_age_Old                 0.003437\n",
      "previous                    0.002727\n",
      "education_little            0.002715\n",
      "housing                     0.002655\n",
      "loan                        0.002487\n",
      "bin_age_Older               0.002384\n",
      "marital_single              0.002138\n",
      "day_of_week_thu             0.001975\n",
      "job_middle                  0.001924\n",
      "marital_married             0.001744\n",
      "job_upper                   0.001567\n",
      "emp_var_rate                0.000968\n",
      "month_nov                   0.000924\n",
      "poutcome_nonexistent        0.000909\n",
      "month_jul                   0.000605\n",
      "month_aug                   0.000587\n",
      "month_sep                   0.000568\n",
      "month_jun                   0.000213\n",
      "month_dec                   0.000193\n"
     ]
    }
   ],
   "source": [
    "##This list has the same affect as the above plot\n",
    "feature_importances = pd.DataFrame(data=model.feature_importances_,\n",
    "                        index=X_train.columns,\n",
    "                                  columns=['importance']).sort_values('importance', ascending=False)\n",
    "\n",
    "print(feature_importances)"
   ]
  },
  {
   "cell_type": "code",
   "execution_count": 64,
   "id": "310b7a09",
   "metadata": {},
   "outputs": [],
   "source": [
    "##Going to try \"fine tuning\" using cross validation method\n",
    "from sklearn.model_selection import GridSearchCV"
   ]
  },
  {
   "cell_type": "code",
   "execution_count": 65,
   "id": "67a6563d",
   "metadata": {},
   "outputs": [],
   "source": [
    "param_grid = {\n",
    "    'bootstrap': [True],\n",
    "    'max_depth': [5, 10, 15, 20],\n",
    "    'min_samples_leaf': [5, 10, 50, 100],\n",
    "    'min_samples_split': [5, 10],\n",
    "    'max_features': [1,2],\n",
    "    'n_estimators': [5, 10, 50, 100]\n",
    "}"
   ]
  },
  {
   "cell_type": "code",
   "execution_count": 66,
   "id": "a85f4fb3",
   "metadata": {},
   "outputs": [],
   "source": [
    "model = RandomForestRegressor()"
   ]
  },
  {
   "cell_type": "code",
   "execution_count": 67,
   "id": "21edaeff",
   "metadata": {},
   "outputs": [],
   "source": [
    "model_grid = GridSearchCV(model, param_grid=param_grid, cv=5)"
   ]
  },
  {
   "cell_type": "code",
   "execution_count": null,
   "id": "327a31a3",
   "metadata": {},
   "outputs": [],
   "source": [
    "model_grid.fit(X_train, y_train)"
   ]
  },
  {
   "cell_type": "code",
   "execution_count": null,
   "id": "1b402017",
   "metadata": {},
   "outputs": [],
   "source": [
    "model_grid.best_params_"
   ]
  },
  {
   "cell_type": "code",
   "execution_count": null,
   "id": "68107924",
   "metadata": {},
   "outputs": [],
   "source": [
    "##Now that the cross validation has given us our best metrics, we will recreate our random forest.\n",
    "model = RandomForestRegressor(min_samples_leaf=80, n_estimators=70, max_depth=25, min_samples_split=5, bootstrap=True)\n",
    "model.fit(X_train, y_train)"
   ]
  },
  {
   "cell_type": "code",
   "execution_count": null,
   "id": "f5f9cd82",
   "metadata": {},
   "outputs": [],
   "source": [
    "y_pred = model.predict(X_test)"
   ]
  },
  {
   "cell_type": "code",
   "execution_count": null,
   "id": "1302833a",
   "metadata": {},
   "outputs": [],
   "source": [
    "# The mean squared error\n",
    "mse = mean_squared_error(y_test, y_pred)\n",
    "print('Mean squared error:', mse)\n",
    "\n",
    "# The coefficient of determination: 1 is perfect prediction\n",
    "r2 = r2_score(y_test, y_pred)\n",
    "print('R-Squared:', r2)"
   ]
  }
 ],
 "metadata": {
  "kernelspec": {
   "display_name": "Python 3",
   "language": "python",
   "name": "python3"
  },
  "language_info": {
   "codemirror_mode": {
    "name": "ipython",
    "version": 3
   },
   "file_extension": ".py",
   "mimetype": "text/x-python",
   "name": "python",
   "nbconvert_exporter": "python",
   "pygments_lexer": "ipython3",
   "version": "3.8.8"
  }
 },
 "nbformat": 4,
 "nbformat_minor": 5
}
